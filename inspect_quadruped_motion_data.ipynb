{
 "cells": [
  {
   "cell_type": "code",
   "execution_count": 2,
   "metadata": {},
   "outputs": [
    {
     "name": "stdout",
     "output_type": "stream",
     "text": [
      "Loading 1/1 motion files: isaacgymenvs/data/motions/quadruped/dog_trot.txt\n",
      "Loaded 1 motions with a total length of 0.533s.\n"
     ]
    }
   ],
   "source": [
    "import isaacgym \n",
    "import torch \n",
    "from isaacgymenvs.tasks.quadruped_motion_data import MotionLib \n",
    "\n",
    "device = torch.device('cpu')\n",
    "motion_lib = MotionLib('isaacgymenvs/data/motions/quadruped/dog_trot.txt', device)\n",
    "\n"
   ]
  },
  {
   "cell_type": "code",
   "execution_count": null,
   "metadata": {},
   "outputs": [],
   "source": []
  }
 ],
 "metadata": {
  "kernelspec": {
   "display_name": "rlgpu",
   "language": "python",
   "name": "python3"
  },
  "language_info": {
   "codemirror_mode": {
    "name": "ipython",
    "version": 3
   },
   "file_extension": ".py",
   "mimetype": "text/x-python",
   "name": "python",
   "nbconvert_exporter": "python",
   "pygments_lexer": "ipython3",
   "version": "3.7.12"
  },
  "orig_nbformat": 4,
  "vscode": {
   "interpreter": {
    "hash": "34e599ad46205da112595bd8e8d4c731974c63427d437a281d8f3b917b51f471"
   }
  }
 },
 "nbformat": 4,
 "nbformat_minor": 2
}
